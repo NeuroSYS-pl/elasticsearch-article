{
 "cells": [
  {
   "cell_type": "markdown",
   "id": "bf5049e2",
   "metadata": {},
   "source": [
    "### Imports"
   ]
  },
  {
   "cell_type": "code",
   "execution_count": 1,
   "id": "f63b4b6e",
   "metadata": {},
   "outputs": [],
   "source": [
    "from analyzer_utils import AnalyzerUtil\n",
    "from config import DEFAULT_INDEX_NAME"
   ]
  },
  {
   "cell_type": "markdown",
   "id": "ba2e821f",
   "metadata": {},
   "source": [
    "### Setup"
   ]
  },
  {
   "cell_type": "code",
   "execution_count": 2,
   "id": "58b405d0",
   "metadata": {},
   "outputs": [],
   "source": [
    "INDEX_NAME = DEFAULT_INDEX_NAME"
   ]
  },
  {
   "cell_type": "code",
   "execution_count": 3,
   "id": "dcf718a7",
   "metadata": {},
   "outputs": [],
   "source": [
    "ANALYZER = AnalyzerUtil(INDEX_NAME)\n",
    "SAMPLE_TEXT = 'Tom Hanks is a good actor as he loves playing'"
   ]
  },
  {
   "cell_type": "markdown",
   "id": "b5902ce6",
   "metadata": {},
   "source": [
    "### Experiment"
   ]
  },
  {
   "cell_type": "code",
   "execution_count": 4,
   "id": "3386347c",
   "metadata": {},
   "outputs": [
    {
     "data": {
      "text/plain": [
       "['tom', 'hanks', 'is', 'a', 'good', 'actor', 'as', 'he', 'loves', 'playing']"
      ]
     },
     "execution_count": 4,
     "metadata": {},
     "output_type": "execute_result"
    }
   ],
   "source": [
    "ANALYZER.analyze(analyzer='whitespace_analyzer', text=SAMPLE_TEXT)"
   ]
  },
  {
   "cell_type": "code",
   "execution_count": 5,
   "id": "67fd51d7",
   "metadata": {},
   "outputs": [
    {
     "data": {
      "text/plain": [
       "['tom', 'hanks', 'is', 'a', 'good', 'actor', 'as', 'he', 'loves', 'playing']"
      ]
     },
     "execution_count": 5,
     "metadata": {},
     "output_type": "execute_result"
    }
   ],
   "source": [
    "ANALYZER.analyze(analyzer='standard_analyzer', text=SAMPLE_TEXT)"
   ]
  },
  {
   "cell_type": "code",
   "execution_count": 6,
   "id": "e63e74c5",
   "metadata": {},
   "outputs": [
    {
     "data": {
      "text/plain": [
       "['tom', 'hank', 'is', 'a', 'good', 'actor', 'as', 'he', 'love', 'play']"
      ]
     },
     "execution_count": 6,
     "metadata": {},
     "output_type": "execute_result"
    }
   ],
   "source": [
    "ANALYZER.analyze(analyzer='stemmer-porter2_standard_analyzer', text=SAMPLE_TEXT)"
   ]
  },
  {
   "cell_type": "code",
   "execution_count": 7,
   "id": "8c0a2fcf",
   "metadata": {},
   "outputs": [
    {
     "data": {
      "text/plain": [
       "['tom', 'hank', 'good', 'actor', 'he', 'love', 'play']"
      ]
     },
     "execution_count": 7,
     "metadata": {},
     "output_type": "execute_result"
    }
   ],
   "source": [
    "ANALYZER.analyze(analyzer ='stop-english_stemmer-porter2_standard_analyzer', text=SAMPLE_TEXT)"
   ]
  },
  {
   "cell_type": "code",
   "execution_count": 8,
   "id": "7acda495",
   "metadata": {},
   "outputs": [
    {
     "data": {
      "text/plain": [
       "['tom', 'hank', 'good', 'act', 'he', 'lov', 'pla']"
      ]
     },
     "execution_count": 8,
     "metadata": {},
     "output_type": "execute_result"
    }
   ],
   "source": [
    "ANALYZER.analyze(analyzer = 'stop-english_stemmer-lovins_standard_analyzer', text=SAMPLE_TEXT)"
   ]
  },
  {
   "cell_type": "code",
   "execution_count": 9,
   "id": "c3675257",
   "metadata": {},
   "outputs": [
    {
     "data": {
      "text/plain": [
       "['tom', 'hank', 'is', 'a', 'good', 'actor', 'as', 'he', 'love', 'plai']"
      ]
     },
     "execution_count": 9,
     "metadata": {},
     "output_type": "execute_result"
    }
   ],
   "source": [
    "ANALYZER.analyze(analyzer='stemmer-english_letter_analyzer', text=SAMPLE_TEXT)"
   ]
  },
  {
   "cell_type": "code",
   "execution_count": 10,
   "id": "ab079669",
   "metadata": {},
   "outputs": [
    {
     "data": {
      "text/plain": [
       "['tom', 'hank', 'good', 'actor', 'he', 'love', 'plai']"
      ]
     },
     "execution_count": 10,
     "metadata": {},
     "output_type": "execute_result"
    }
   ],
   "source": [
    "ANALYZER.analyze(analyzer='stop-english_stemmer-english_standard_analyzer', text=SAMPLE_TEXT)"
   ]
  },
  {
   "cell_type": "code",
   "execution_count": 4,
   "id": "bbfb680b",
   "metadata": {},
   "outputs": [
    {
     "data": {
      "text/plain": [
       "['tom',\n",
       " 'hanks',\n",
       " 'hank',\n",
       " 'good',\n",
       " 'actor',\n",
       " 'he',\n",
       " 'loves',\n",
       " 'love',\n",
       " 'playing',\n",
       " 'play']"
      ]
     },
     "execution_count": 4,
     "metadata": {},
     "output_type": "execute_result"
    }
   ],
   "source": [
    "ANALYZER.analyze(analyzer='stop-english_keyword-repeat_stemmer-porter2_remove_duplicates_standard_analyzer', text=SAMPLE_TEXT)"
   ]
  },
  {
   "cell_type": "code",
   "execution_count": 5,
   "id": "872bce4f",
   "metadata": {},
   "outputs": [
    {
     "data": {
      "text/plain": [
       "['tom',\n",
       " 'hanks',\n",
       " 'hank',\n",
       " 'is',\n",
       " 'a',\n",
       " 'good',\n",
       " 'actor',\n",
       " 'as',\n",
       " 'he',\n",
       " 'loves',\n",
       " 'love',\n",
       " 'playing',\n",
       " 'play']"
      ]
     },
     "execution_count": 5,
     "metadata": {},
     "output_type": "execute_result"
    }
   ],
   "source": [
    "ANALYZER.analyze(analyzer='keyword-repeat_stemmer-porter2_remove_duplicates_standard_analyzer', text=SAMPLE_TEXT)"
   ]
  },
  {
   "cell_type": "code",
   "execution_count": 6,
   "id": "dc37586c",
   "metadata": {},
   "outputs": [
    {
     "data": {
      "text/plain": [
       "['t',\n",
       " 'to',\n",
       " 'o',\n",
       " 'om',\n",
       " 'm',\n",
       " 'h',\n",
       " 'ha',\n",
       " 'a',\n",
       " 'an',\n",
       " 'n',\n",
       " 'nk',\n",
       " 'k',\n",
       " 'ks',\n",
       " 's',\n",
       " 'i',\n",
       " 'is',\n",
       " 's',\n",
       " 'a',\n",
       " 'g',\n",
       " 'go',\n",
       " 'o',\n",
       " 'oo',\n",
       " 'o',\n",
       " 'od',\n",
       " 'd',\n",
       " 'a',\n",
       " 'ac',\n",
       " 'c',\n",
       " 'ct',\n",
       " 't',\n",
       " 'to',\n",
       " 'o',\n",
       " 'or',\n",
       " 'r',\n",
       " 'a',\n",
       " 'as',\n",
       " 's',\n",
       " 'h',\n",
       " 'he',\n",
       " 'e',\n",
       " 'l',\n",
       " 'lo',\n",
       " 'o',\n",
       " 'ov',\n",
       " 'v',\n",
       " 've',\n",
       " 'e',\n",
       " 'es',\n",
       " 's',\n",
       " 'p',\n",
       " 'pl',\n",
       " 'l',\n",
       " 'la',\n",
       " 'a',\n",
       " 'ay',\n",
       " 'y',\n",
       " 'yi',\n",
       " 'i',\n",
       " 'in',\n",
       " 'n',\n",
       " 'ng',\n",
       " 'g']"
      ]
     },
     "execution_count": 6,
     "metadata": {},
     "output_type": "execute_result"
    }
   ],
   "source": [
    "ANALYZER.analyze(analyzer='ngram_standard_analyzer', text=SAMPLE_TEXT)"
   ]
  },
  {
   "cell_type": "code",
   "execution_count": 7,
   "id": "d92b9ac7",
   "metadata": {},
   "outputs": [
    {
     "data": {
      "text/plain": [
       "['to',\n",
       " 'tom',\n",
       " 'om',\n",
       " 'ha',\n",
       " 'han',\n",
       " 'an',\n",
       " 'ank',\n",
       " 'nk',\n",
       " 'nks',\n",
       " 'ks',\n",
       " 'is',\n",
       " 'go',\n",
       " 'goo',\n",
       " 'oo',\n",
       " 'ood',\n",
       " 'od',\n",
       " 'ac',\n",
       " 'act',\n",
       " 'ct',\n",
       " 'cto',\n",
       " 'to',\n",
       " 'tor',\n",
       " 'or',\n",
       " 'as',\n",
       " 'he',\n",
       " 'lo',\n",
       " 'lov',\n",
       " 'ov',\n",
       " 'ove',\n",
       " 've',\n",
       " 'ves',\n",
       " 'es',\n",
       " 'pl',\n",
       " 'pla',\n",
       " 'la',\n",
       " 'lay',\n",
       " 'ay',\n",
       " 'ayi',\n",
       " 'yi',\n",
       " 'yin',\n",
       " 'in',\n",
       " 'ing',\n",
       " 'ng']"
      ]
     },
     "execution_count": 7,
     "metadata": {},
     "output_type": "execute_result"
    }
   ],
   "source": [
    "ANALYZER.analyze(analyzer='2-3-ngram_standard_analyzer', text=SAMPLE_TEXT)"
   ]
  },
  {
   "cell_type": "code",
   "execution_count": null,
   "id": "fd56d2d9",
   "metadata": {},
   "outputs": [],
   "source": []
  }
 ],
 "metadata": {
  "kernelspec": {
   "display_name": "Python 3",
   "language": "python",
   "name": "python3"
  },
  "language_info": {
   "codemirror_mode": {
    "name": "ipython",
    "version": 3
   },
   "file_extension": ".py",
   "mimetype": "text/x-python",
   "name": "python",
   "nbconvert_exporter": "python",
   "pygments_lexer": "ipython3",
   "version": "3.8.3"
  }
 },
 "nbformat": 4,
 "nbformat_minor": 5
}
