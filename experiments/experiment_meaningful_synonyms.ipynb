{
 "cells": [
  {
   "cell_type": "markdown",
   "id": "988e2795",
   "metadata": {},
   "source": [
    "### Imports"
   ]
  },
  {
   "cell_type": "code",
   "execution_count": 47,
   "id": "d8c10d02",
   "metadata": {},
   "outputs": [],
   "source": [
    "import time\n",
    "import spacy\n",
    "import pandas as pd\n",
    "from typing import Callable, Union, List, Dict, Any, Tuple\n",
    "from tqdm.notebook import tqdm"
   ]
  },
  {
   "cell_type": "code",
   "execution_count": 2,
   "id": "e93a04ca",
   "metadata": {},
   "outputs": [],
   "source": [
    "from index_utils import IndexUtil\n",
    "from scoring_utils import ScoringUtil\n",
    "from experiment_utils import ExperimentUtil\n",
    "from analyzer_utils import AnalyzerUtil"
   ]
  },
  {
   "cell_type": "markdown",
   "id": "a623760f",
   "metadata": {},
   "source": [
    "### Prepare index/mappings/settings"
   ]
  },
  {
   "cell_type": "code",
   "execution_count": 3,
   "id": "8f438f5c",
   "metadata": {},
   "outputs": [],
   "source": [
    "INDEX_NAME = 'index_synonyms_meaningful'"
   ]
  },
  {
   "cell_type": "code",
   "execution_count": 4,
   "id": "d82dea7d",
   "metadata": {},
   "outputs": [],
   "source": [
    "INDEX = IndexUtil(INDEX_NAME)"
   ]
  },
  {
   "cell_type": "code",
   "execution_count": 5,
   "id": "679b92c7",
   "metadata": {},
   "outputs": [],
   "source": [
    "def get_mappings(analyzer:str = 'synonym_analyzer'):\n",
    "    return {\n",
    "        \"properties\": {\n",
    "            \"article_id\": {\n",
    "                \"type\": \"keyword\"\n",
    "            },\n",
    "            \"text\": {\n",
    "                \"type\": \"text\",\n",
    "                \"analyzer\": analyzer\n",
    "            },\n",
    "        }\n",
    "    }"
   ]
  },
  {
   "cell_type": "code",
   "execution_count": 59,
   "id": "56db6849",
   "metadata": {},
   "outputs": [],
   "source": [
    "def get_settings(synonyms_list=[\"Eins, Uno, One\", \"Cosmos, Universe\"]):\n",
    "    return {\n",
    "        \"number_of_shards\": 1,\n",
    "          \"analysis\": {\n",
    "            \"analyzer\": {\n",
    "              \"synonym_analyzer\": {\n",
    "                \"tokenizer\": \"standard\",\n",
    "                \"filter\": [\"lowercase\",\"synonyms_named_entities_filter\"]\n",
    "              }\n",
    "            },\n",
    "            \"filter\": {\n",
    "              \"synonyms_named_entities_filter\": {\n",
    "              \"type\": \"synonym\",\n",
    "              \"synonyms\": synonyms_list\n",
    "              }\n",
    "            }\n",
    "          }\n",
    "        }"
   ]
  },
  {
   "cell_type": "code",
   "execution_count": 60,
   "id": "29457b54",
   "metadata": {},
   "outputs": [],
   "source": [
    "def document_mapping_func(doc: Dict[str, Any])->Dict[str, Any]:\n",
    "    return {\n",
    "        'article_id': doc['uuid'],\n",
    "        'text': doc['text'],\n",
    "    }"
   ]
  },
  {
   "cell_type": "markdown",
   "id": "f78d9939",
   "metadata": {},
   "source": [
    "### Load dataset/ modify questions"
   ]
  },
  {
   "cell_type": "code",
   "execution_count": 8,
   "id": "49a7f133",
   "metadata": {},
   "outputs": [
    {
     "name": "stderr",
     "output_type": "stream",
     "text": [
      "/home/daniel/.local/lib/python3.8/site-packages/spacy/util.py:837: UserWarning: [W095] Model 'en_core_web_sm' (3.2.0) was trained with spaCy v3.2 and may not be 100% compatible with the current version (3.3.0). If you see errors or degraded performance, download a newer compatible model or retrain your custom model with the current spaCy version. For more details and available updates, run: python -m spacy validate\n",
      "  warnings.warn(warn_msg)\n"
     ]
    }
   ],
   "source": [
    "nlp = spacy.load(\"en_core_web_sm\")"
   ]
  },
  {
   "cell_type": "code",
   "execution_count": 27,
   "id": "8d31c2e9",
   "metadata": {},
   "outputs": [],
   "source": [
    "DOCUMENTS_SWIFT, QUESTIONS_SWIFT = ExperimentUtil.load_dataset('swift_ui')"
   ]
  },
  {
   "cell_type": "code",
   "execution_count": 28,
   "id": "3151071c",
   "metadata": {},
   "outputs": [],
   "source": [
    "QUESTIONS_SWIFT_MOD=QUESTIONS_SWIFT.copy()"
   ]
  },
  {
   "cell_type": "code",
   "execution_count": 29,
   "id": "b995725f",
   "metadata": {},
   "outputs": [],
   "source": [
    "def get_named_entities_from_questions(questions=QUESTIONS_SWIFT):\n",
    "    named_entities_ls = []\n",
    "    for question in questions:\n",
    "        doc = nlp(question['question'])\n",
    "        for token in doc:\n",
    "            if token.pos_ in ['PROPN']:\n",
    "                named_entities_ls.append(token.lemma_)\n",
    "    return list(set(named_entities_ls))"
   ]
  },
  {
   "cell_type": "code",
   "execution_count": 30,
   "id": "dbbe6526",
   "metadata": {},
   "outputs": [],
   "source": [
    "# NE save to file\n",
    "# names_entities_list = get_named_entities_from_questions()\n",
    "# with open(\"settings/named_entities.txt\", \"w\") as f:\n",
    "#     for ne in names_entities_list:\n",
    "#         f.write(str(ne) +\"\\n\")"
   ]
  },
  {
   "cell_type": "code",
   "execution_count": 31,
   "id": "c2df9f83",
   "metadata": {},
   "outputs": [],
   "source": [
    "# NE manually extended with thei synonyms \n",
    "ENTITIES_SYNONYMS = []\n",
    "with open(\"settings/named_entities_synonyms.txt\", \"r\") as f:\n",
    "    for line in f:\n",
    "        ENTITIES_SYNONYMS.append(line.strip())"
   ]
  },
  {
   "cell_type": "code",
   "execution_count": 32,
   "id": "7f271fad",
   "metadata": {},
   "outputs": [],
   "source": [
    "def replace_named_entities(text, synonyms=ENTITIES_SYNONYMS):\n",
    "    synonyms_dict = {\n",
    "        line.split(', ')[0]:line.split(', ')[1]\n",
    "        for line in synonyms\n",
    "    }\n",
    "    for key, value in synonyms_dict.items():\n",
    "        if key in text:\n",
    "            text = text.replace(key,value)\n",
    "    return text"
   ]
  },
  {
   "cell_type": "code",
   "execution_count": 33,
   "id": "9358d05d",
   "metadata": {},
   "outputs": [],
   "source": [
    "def modify_questions(questions_mod=QUESTIONS_SWIFT_MOD):\n",
    "    for question in questions_mod:\n",
    "        question['question'] = replace_named_entities(question['question'])"
   ]
  },
  {
   "cell_type": "code",
   "execution_count": 34,
   "id": "2d4b7754",
   "metadata": {},
   "outputs": [],
   "source": [
    "modify_questions()"
   ]
  },
  {
   "cell_type": "markdown",
   "id": "52bc3b08",
   "metadata": {},
   "source": [
    "### Experiment"
   ]
  },
  {
   "cell_type": "code",
   "execution_count": 48,
   "id": "e4d7ca94",
   "metadata": {},
   "outputs": [],
   "source": [
    "def test_meaningful_synonyms(documents, questions, index = INDEX_NAME, query_fuc = INDEX.default_query, synonyms_list=ENTITIES_SYNONYMS):\n",
    "    synonyms_ls = []\n",
    "    hits_top_10_ls = []\n",
    "    hits_top_5_ls = []\n",
    "    hits_top_3_ls = []\n",
    "    hits_top_1_ls = []\n",
    "    synonyms_range=[True, False]\n",
    "    for use_synonyms in tqdm(synonyms_range):\n",
    "        INDEX.delete_index()\n",
    "        if use_synonyms:\n",
    "            INDEX.create_index(get_mappings(), get_settings(synonyms_list))\n",
    "        else:\n",
    "            INDEX.create_index(get_mappings(), get_settings([]))\n",
    "        INDEX.index_all_docs(documents, document_mapping_func)\n",
    "        \n",
    "        synonyms_ls.append(use_synonyms)\n",
    "        time.sleep(1)\n",
    "        all_hits = ExperimentUtil.validate(index, questions, query_fuc)\n",
    "        hits_10, hits_5, hit_3, hits_1 = all_hits['hits@10'], all_hits['hits@5'], all_hits['hits@3'], all_hits['hits@1']\n",
    "        hits_top_10_ls.append(hits_10)\n",
    "        hits_top_5_ls.append(hits_5)\n",
    "        hits_top_3_ls.append(hit_3)\n",
    "        hits_top_1_ls.append(hits_1)\n",
    "    return pd.DataFrame.from_dict({\n",
    "        'synonyms_used':synonyms_ls,\n",
    "        'hits@10':hits_top_10_ls,\n",
    "        'hits@5':hits_top_5_ls,\n",
    "        'hits@3':hits_top_3_ls,\n",
    "        'hits@1':hits_top_1_ls\n",
    "    })"
   ]
  },
  {
   "cell_type": "code",
   "execution_count": 57,
   "id": "48776fcb",
   "metadata": {},
   "outputs": [],
   "source": [
    "# meaningful_synonyms_df = test_meaningful_synonyms(DOCUMENTS_SWIFT, QUESTIONS_SWIFT_MOD)"
   ]
  },
  {
   "cell_type": "code",
   "execution_count": 56,
   "id": "853f03ae",
   "metadata": {},
   "outputs": [],
   "source": [
    "# meaningful_synonyms_df.to_csv('results/meaningful_synonyms_impact.csv')"
   ]
  },
  {
   "cell_type": "markdown",
   "id": "d77c1690",
   "metadata": {},
   "source": [
    "### See results and analyzer"
   ]
  },
  {
   "cell_type": "code",
   "execution_count": 58,
   "id": "77e91720",
   "metadata": {},
   "outputs": [
    {
     "data": {
      "text/html": [
       "<style type=\"text/css\">\n",
       "</style>\n",
       "<table id=\"T_a204d_\">\n",
       "  <caption>SWIFT_UI - impact of adding synonyms of Named Entities</caption>\n",
       "  <thead>\n",
       "    <tr>\n",
       "      <th class=\"blank level0\" >&nbsp;</th>\n",
       "      <th class=\"col_heading level0 col0\" >synonyms_used</th>\n",
       "      <th class=\"col_heading level0 col1\" >hits@10</th>\n",
       "      <th class=\"col_heading level0 col2\" >hits@5</th>\n",
       "      <th class=\"col_heading level0 col3\" >hits@3</th>\n",
       "      <th class=\"col_heading level0 col4\" >hits@1</th>\n",
       "    </tr>\n",
       "  </thead>\n",
       "  <tbody>\n",
       "    <tr>\n",
       "      <th id=\"T_a204d_level0_row0\" class=\"row_heading level0 row0\" >0</th>\n",
       "      <td id=\"T_a204d_row0_col0\" class=\"data row0 col0\" >True</td>\n",
       "      <td id=\"T_a204d_row0_col1\" class=\"data row0 col1\" >0.923913</td>\n",
       "      <td id=\"T_a204d_row0_col2\" class=\"data row0 col2\" >0.864130</td>\n",
       "      <td id=\"T_a204d_row0_col3\" class=\"data row0 col3\" >0.777174</td>\n",
       "      <td id=\"T_a204d_row0_col4\" class=\"data row0 col4\" >0.597826</td>\n",
       "    </tr>\n",
       "    <tr>\n",
       "      <th id=\"T_a204d_level0_row1\" class=\"row_heading level0 row1\" >1</th>\n",
       "      <td id=\"T_a204d_row1_col0\" class=\"data row1 col0\" >False</td>\n",
       "      <td id=\"T_a204d_row1_col1\" class=\"data row1 col1\" >0.777174</td>\n",
       "      <td id=\"T_a204d_row1_col2\" class=\"data row1 col2\" >0.673913</td>\n",
       "      <td id=\"T_a204d_row1_col3\" class=\"data row1 col3\" >0.625000</td>\n",
       "      <td id=\"T_a204d_row1_col4\" class=\"data row1 col4\" >0.429348</td>\n",
       "    </tr>\n",
       "  </tbody>\n",
       "</table>\n"
      ],
      "text/plain": [
       "<pandas.io.formats.style.Styler at 0x7f93736786d0>"
      ]
     },
     "execution_count": 58,
     "metadata": {},
     "output_type": "execute_result"
    }
   ],
   "source": [
    "meaningfuls_synonyms_df.style.set_caption(\"SWIFT_UI - impact of adding synonyms of Named Entities\")"
   ]
  },
  {
   "cell_type": "code",
   "execution_count": 50,
   "id": "8f89591b",
   "metadata": {},
   "outputs": [
    {
     "data": {
      "text/plain": [
       "{'acknowledged': True,\n",
       " 'shards_acknowledged': True,\n",
       " 'index': 'index_synonyms_meaningful'}"
      ]
     },
     "execution_count": 50,
     "metadata": {},
     "output_type": "execute_result"
    }
   ],
   "source": [
    "INDEX.delete_index()\n",
    "INDEX.create_index(get_mappings(), get_settings(ENTITIES_SYNONYMS))"
   ]
  },
  {
   "cell_type": "code",
   "execution_count": 51,
   "id": "16b54105",
   "metadata": {},
   "outputs": [],
   "source": [
    "ANALYZER = AnalyzerUtil(INDEX_NAME)"
   ]
  },
  {
   "cell_type": "code",
   "execution_count": 53,
   "id": "7d97540b",
   "metadata": {},
   "outputs": [
    {
     "data": {
      "text/plain": [
       "['i',\n",
       " 'want',\n",
       " 'to',\n",
       " 'uno',\n",
       " 'eins',\n",
       " 'universe',\n",
       " 'mac',\n",
       " 'macintosh',\n",
       " 'mvvm',\n",
       " 'model',\n",
       " 'core',\n",
       " 'view',\n",
       " 'icoreutil',\n",
       " 'view',\n",
       " 'model']"
      ]
     },
     "execution_count": 53,
     "metadata": {},
     "output_type": "execute_result"
    }
   ],
   "source": [
    "ANALYZER.analyze(analyzer='synonym_analyzer', text=\"I want to uno eins universe, Mac, MVVM, Core\")"
   ]
  }
 ],
 "metadata": {
  "kernelspec": {
   "display_name": "Python 3",
   "language": "python",
   "name": "python3"
  },
  "language_info": {
   "codemirror_mode": {
    "name": "ipython",
    "version": 3
   },
   "file_extension": ".py",
   "mimetype": "text/x-python",
   "name": "python",
   "nbconvert_exporter": "python",
   "pygments_lexer": "ipython3",
   "version": "3.8.3"
  }
 },
 "nbformat": 4,
 "nbformat_minor": 5
}
