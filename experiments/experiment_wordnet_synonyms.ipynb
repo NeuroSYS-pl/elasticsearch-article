{
 "cells": [
  {
   "cell_type": "markdown",
   "id": "7d076d0a",
   "metadata": {},
   "source": [
    "### Imports"
   ]
  },
  {
   "cell_type": "code",
   "execution_count": 9,
   "id": "444fc566",
   "metadata": {},
   "outputs": [],
   "source": [
    "import time\n",
    "import pandas as pd\n",
    "from typing import Callable, Union, List, Dict, Any, Tuple\n",
    "from tqdm.notebook import tqdm"
   ]
  },
  {
   "cell_type": "code",
   "execution_count": 10,
   "id": "c585c9ce",
   "metadata": {},
   "outputs": [],
   "source": [
    "from index_utils import IndexUtil\n",
    "from experiment_utils import ExperimentUtil\n",
    "from analyzer_utils import AnalyzerUtil"
   ]
  },
  {
   "cell_type": "markdown",
   "id": "a39dbaa7",
   "metadata": {},
   "source": [
    "### Prepare index/mappings/settings"
   ]
  },
  {
   "cell_type": "code",
   "execution_count": 11,
   "id": "c9c6947e",
   "metadata": {},
   "outputs": [],
   "source": [
    "INDEX_NAME = 'index_synonyms_wordnet'"
   ]
  },
  {
   "cell_type": "code",
   "execution_count": 12,
   "id": "5f128273",
   "metadata": {},
   "outputs": [],
   "source": [
    "INDEX = IndexUtil(INDEX_NAME)"
   ]
  },
  {
   "cell_type": "code",
   "execution_count": 19,
   "id": "bc29d5b8",
   "metadata": {},
   "outputs": [],
   "source": [
    "ANALYZER = AnalyzerUtil(INDEX_NAME)"
   ]
  },
  {
   "cell_type": "code",
   "execution_count": 16,
   "id": "b192f75d",
   "metadata": {},
   "outputs": [],
   "source": [
    "def get_mappings(analyzer:str = 'synonym_analyzer'):\n",
    "    return {\n",
    "        \"properties\": {\n",
    "            \"article_id\": {\n",
    "                \"type\": \"keyword\"\n",
    "            },\n",
    "            \"text\": {\n",
    "                \"type\": \"text\",\n",
    "                \"analyzer\": analyzer\n",
    "            },\n",
    "        }\n",
    "    }"
   ]
  },
  {
   "cell_type": "code",
   "execution_count": 27,
   "id": "7fa6909c",
   "metadata": {},
   "outputs": [],
   "source": [
    "def get_settings():\n",
    "    return {\n",
    "        \"number_of_shards\": 1,\n",
    "          \"analysis\": {\n",
    "            \"analyzer\": {\n",
    "              \"synonym_analyzer\": {\n",
    "                \"tokenizer\": \"standard\",\n",
    "                \"filter\": [\"lowercase\",\"synonyms_wordnet\"]\n",
    "              },\n",
    "              \"stop-english_standard_analyzer\": {\n",
    "                \"type\": \"custom\",\n",
    "                \"tokenizer\": \"standard_tokenizer\",\n",
    "                \"filter\": [\n",
    "                    \"lowercase\",\n",
    "                    \"stop-english_filter\",\n",
    "                ]\n",
    "              },\n",
    "            },\n",
    "            \"filter\": {\n",
    "              \"synonyms_wordnet\": {\n",
    "                \"type\": \"synonym_graph\",\n",
    "                \"format\": \"wordnet\",\n",
    "                \"synonyms_path\": \"synonyms/wordnet_synonyms.txt\"\n",
    "              },\n",
    "              \"stop-english_filter\": {\n",
    "                \"type\": \"stop\",\n",
    "                \"stopwords\": \"_english_\"\n",
    "               },\n",
    "            },\n",
    "            \"tokenizer\": {\n",
    "                \"standard_tokenizer\": {\n",
    "                    \"type\": \"standard\"\n",
    "                }\n",
    "            }\n",
    "          }\n",
    "        }"
   ]
  },
  {
   "cell_type": "code",
   "execution_count": 28,
   "id": "b46888e5",
   "metadata": {},
   "outputs": [],
   "source": [
    "def document_mapping_func(doc: Dict[str, Any])->Dict[str, Any]:\n",
    "    return {\n",
    "        'article_id': doc['uuid'],\n",
    "        'text': doc['text'],\n",
    "    }"
   ]
  },
  {
   "cell_type": "markdown",
   "id": "655a135a",
   "metadata": {},
   "source": [
    "### Load dataset"
   ]
  },
  {
   "cell_type": "code",
   "execution_count": 29,
   "id": "f25e626a",
   "metadata": {},
   "outputs": [],
   "source": [
    "DOCUMENTS_SQUAD, QUESTIONS_SQUAD = ExperimentUtil.load_dataset('squad_10k')\n",
    "DOCUMENTS_SWIFT, QUESTIONS_SWIFT = ExperimentUtil.load_dataset('swift_ui')"
   ]
  },
  {
   "cell_type": "markdown",
   "id": "fa5b25ca",
   "metadata": {},
   "source": [
    "### Experiment"
   ]
  },
  {
   "cell_type": "code",
   "execution_count": 30,
   "id": "8ed4fa2e",
   "metadata": {},
   "outputs": [],
   "source": [
    "def test_wordnet_synonyms(documents, questions, index = INDEX_NAME, query_fuc = INDEX.default_query):\n",
    "    synonyms_ls = []\n",
    "    hits_top_10_ls = []\n",
    "    hits_top_5_ls = []\n",
    "    hits_top_3_ls = []\n",
    "    hits_top_1_ls = []\n",
    "    synonyms_range=[True, False]\n",
    "    for use_synonyms in tqdm(synonyms_range):\n",
    "        INDEX.delete_index()\n",
    "        if use_synonyms:\n",
    "            INDEX.create_index(get_mappings('synonym_analyzer'), get_settings())\n",
    "        else:\n",
    "            INDEX.create_index(get_mappings('english_standard_analyzer'), get_settings())\n",
    "        INDEX.index_all_docs(documents, document_mapping_func)\n",
    "        \n",
    "        synonyms_ls.append(use_synonyms)\n",
    "        time.sleep(1)\n",
    "        all_hits = ExperimentUtil.validate(index, questions, query_fuc)\n",
    "        hits_10, hits_5, hit_3, hits_1 = all_hits['hits@10'], all_hits['hits@5'], all_hits['hits@3'], all_hits['hits@1']\n",
    "        hits_top_10_ls.append(hits_10)\n",
    "        hits_top_5_ls.append(hits_5)\n",
    "        hits_top_3_ls.append(hit_3)\n",
    "        hits_top_1_ls.append(hits_1)\n",
    "    return pd.DataFrame.from_dict({\n",
    "        'synonyms_used':synonyms_ls,\n",
    "        'hits@10':hits_top_10_ls,\n",
    "        'hits@5':hits_top_5_ls,\n",
    "        'hits@3':hits_top_3_ls,\n",
    "        'hits@1':hits_top_1_ls\n",
    "    })"
   ]
  },
  {
   "cell_type": "code",
   "execution_count": 44,
   "id": "651e62a9",
   "metadata": {},
   "outputs": [],
   "source": [
    "# squad_wordnet_synonyms_df = test_wordnet_synonyms(DOCUMENTS_SQUAD, QUESTIONS_SQUAD)"
   ]
  },
  {
   "cell_type": "code",
   "execution_count": 43,
   "id": "346a4b35",
   "metadata": {},
   "outputs": [],
   "source": [
    "# squad_wordnet_synonyms_df.to_csv('results/synonyms_wordnet_squad.csv')"
   ]
  },
  {
   "cell_type": "code",
   "execution_count": 38,
   "id": "8ca51d8b",
   "metadata": {},
   "outputs": [],
   "source": [
    "# swift_wordnet_synonyms_df = test_wordnet_synonyms(DOCUMENTS_SWIFT, QUESTIONS_SWIFT)"
   ]
  },
  {
   "cell_type": "code",
   "execution_count": 39,
   "id": "aea2dba3",
   "metadata": {},
   "outputs": [],
   "source": [
    "# swift_wordnet_synonyms_df.to_csv('results/synonyms_wordnet_swift.csv')"
   ]
  },
  {
   "cell_type": "code",
   "execution_count": 50,
   "id": "5a2d7eba",
   "metadata": {},
   "outputs": [
    {
     "data": {
      "application/vnd.jupyter.widget-view+json": {
       "model_id": "0f05a9830e174ce78b7ccc4a041aecd3",
       "version_major": 2,
       "version_minor": 0
      },
      "text/plain": [
       "  0%|          | 0/10000 [00:00<?, ?it/s]"
      ]
     },
     "metadata": {},
     "output_type": "display_data"
    }
   ],
   "source": [
    "INDEX.delete_index()\n",
    "INDEX.create_index(get_mappings('synonym_analyzer'), get_settings())\n",
    "INDEX.index_all_docs(DOCUMENTS_SQUAD, document_mapping_func)"
   ]
  },
  {
   "cell_type": "markdown",
   "id": "941f88c3",
   "metadata": {},
   "source": [
    "### See results and analyzer"
   ]
  },
  {
   "cell_type": "code",
   "execution_count": 41,
   "id": "21ef6940",
   "metadata": {},
   "outputs": [
    {
     "data": {
      "text/html": [
       "<style type=\"text/css\">\n",
       "</style>\n",
       "<table id=\"T_c7561_\">\n",
       "  <caption>SQUAD - impact of using all WordNet synonyms</caption>\n",
       "  <thead>\n",
       "    <tr>\n",
       "      <th class=\"blank level0\" >&nbsp;</th>\n",
       "      <th class=\"col_heading level0 col0\" >synonyms_used</th>\n",
       "      <th class=\"col_heading level0 col1\" >hits@10</th>\n",
       "      <th class=\"col_heading level0 col2\" >hits@5</th>\n",
       "      <th class=\"col_heading level0 col3\" >hits@3</th>\n",
       "      <th class=\"col_heading level0 col4\" >hits@1</th>\n",
       "    </tr>\n",
       "  </thead>\n",
       "  <tbody>\n",
       "    <tr>\n",
       "      <th id=\"T_c7561_level0_row0\" class=\"row_heading level0 row0\" >0</th>\n",
       "      <td id=\"T_c7561_row0_col0\" class=\"data row0 col0\" >True</td>\n",
       "      <td id=\"T_c7561_row0_col1\" class=\"data row0 col1\" >0.640000</td>\n",
       "      <td id=\"T_c7561_row0_col2\" class=\"data row0 col2\" >0.583000</td>\n",
       "      <td id=\"T_c7561_row0_col3\" class=\"data row0 col3\" >0.538000</td>\n",
       "      <td id=\"T_c7561_row0_col4\" class=\"data row0 col4\" >0.444000</td>\n",
       "    </tr>\n",
       "    <tr>\n",
       "      <th id=\"T_c7561_level0_row1\" class=\"row_heading level0 row1\" >1</th>\n",
       "      <td id=\"T_c7561_row1_col0\" class=\"data row1 col0\" >False</td>\n",
       "      <td id=\"T_c7561_row1_col1\" class=\"data row1 col1\" >0.904000</td>\n",
       "      <td id=\"T_c7561_row1_col2\" class=\"data row1 col2\" >0.871000</td>\n",
       "      <td id=\"T_c7561_row1_col3\" class=\"data row1 col3\" >0.830000</td>\n",
       "      <td id=\"T_c7561_row1_col4\" class=\"data row1 col4\" >0.717000</td>\n",
       "    </tr>\n",
       "  </tbody>\n",
       "</table>\n"
      ],
      "text/plain": [
       "<pandas.io.formats.style.Styler at 0x7fde68f7c3a0>"
      ]
     },
     "execution_count": 41,
     "metadata": {},
     "output_type": "execute_result"
    }
   ],
   "source": [
    "# 62199 - withouth synonyms, 78284 - with synonyms\n",
    "squad_wordnet_synonyms_df.style.set_caption(\"SQUAD - impact of using all WordNet synonyms\")"
   ]
  },
  {
   "cell_type": "code",
   "execution_count": 32,
   "id": "b2959db5",
   "metadata": {},
   "outputs": [
    {
     "data": {
      "text/html": [
       "<style type=\"text/css\">\n",
       "</style>\n",
       "<table id=\"T_edac7_\">\n",
       "  <caption>SWIFT UI - impact of using all WordNet synonyms</caption>\n",
       "  <thead>\n",
       "    <tr>\n",
       "      <th class=\"blank level0\" >&nbsp;</th>\n",
       "      <th class=\"col_heading level0 col0\" >synonyms_used</th>\n",
       "      <th class=\"col_heading level0 col1\" >hits@10</th>\n",
       "      <th class=\"col_heading level0 col2\" >hits@5</th>\n",
       "      <th class=\"col_heading level0 col3\" >hits@3</th>\n",
       "      <th class=\"col_heading level0 col4\" >hits@1</th>\n",
       "    </tr>\n",
       "  </thead>\n",
       "  <tbody>\n",
       "    <tr>\n",
       "      <th id=\"T_edac7_level0_row0\" class=\"row_heading level0 row0\" >0</th>\n",
       "      <td id=\"T_edac7_row0_col0\" class=\"data row0 col0\" >True</td>\n",
       "      <td id=\"T_edac7_row0_col1\" class=\"data row0 col1\" >0.711957</td>\n",
       "      <td id=\"T_edac7_row0_col2\" class=\"data row0 col2\" >0.668478</td>\n",
       "      <td id=\"T_edac7_row0_col3\" class=\"data row0 col3\" >0.586957</td>\n",
       "      <td id=\"T_edac7_row0_col4\" class=\"data row0 col4\" >0.423913</td>\n",
       "    </tr>\n",
       "    <tr>\n",
       "      <th id=\"T_edac7_level0_row1\" class=\"row_heading level0 row1\" >1</th>\n",
       "      <td id=\"T_edac7_row1_col0\" class=\"data row1 col0\" >False</td>\n",
       "      <td id=\"T_edac7_row1_col1\" class=\"data row1 col1\" >0.940217</td>\n",
       "      <td id=\"T_edac7_row1_col2\" class=\"data row1 col2\" >0.864130</td>\n",
       "      <td id=\"T_edac7_row1_col3\" class=\"data row1 col3\" >0.798913</td>\n",
       "      <td id=\"T_edac7_row1_col4\" class=\"data row1 col4\" >0.608696</td>\n",
       "    </tr>\n",
       "  </tbody>\n",
       "</table>\n"
      ],
      "text/plain": [
       "<pandas.io.formats.style.Styler at 0x7fde62d18250>"
      ]
     },
     "execution_count": 32,
     "metadata": {},
     "output_type": "execute_result"
    }
   ],
   "source": [
    "# 2951 - withouth synonyms, 10054 - with synonyms\n",
    "swift_wordnet_synonyms_df.style.set_caption(\"SWIFT UI - impact of using all WordNet synonyms\")"
   ]
  },
  {
   "cell_type": "code",
   "execution_count": 34,
   "id": "f7ffcd78",
   "metadata": {},
   "outputs": [
    {
     "data": {
      "text/plain": [
       "{'acknowledged': True,\n",
       " 'shards_acknowledged': True,\n",
       " 'index': 'index_synonyms_wordnet'}"
      ]
     },
     "execution_count": 34,
     "metadata": {},
     "output_type": "execute_result"
    }
   ],
   "source": [
    "INDEX.delete_index()\n",
    "INDEX.create_index(get_mappings('synonym_analyzer'), get_settings())"
   ]
  },
  {
   "cell_type": "code",
   "execution_count": 36,
   "id": "9462f318",
   "metadata": {},
   "outputs": [
    {
     "data": {
      "text/plain": [
       "['cats',\n",
       " 'and',\n",
       " 'dogs',\n",
       " 'ever',\n",
       " \"e'er\",\n",
       " 'constantly',\n",
       " 'forever',\n",
       " 'perpetually',\n",
       " 'incessantly',\n",
       " 'invariably',\n",
       " 'always',\n",
       " 'battle',\n",
       " 'conflict',\n",
       " 'engagement',\n",
       " 'fighting',\n",
       " 'combat',\n",
       " 'scrap',\n",
       " 'competitiveness',\n",
       " 'contend',\n",
       " 'struggle',\n",
       " 'oppose',\n",
       " 'fight',\n",
       " 'fight',\n",
       " 'defend',\n",
       " 'crusade',\n",
       " 'press',\n",
       " 'campaign',\n",
       " 'push',\n",
       " 'agitate',\n",
       " 'fight',\n",
       " 'back',\n",
       " 'down']"
      ]
     },
     "execution_count": 36,
     "metadata": {},
     "output_type": "execute_result"
    }
   ],
   "source": [
    "ANALYZER.analyze(analyzer='synonym_analyzer', text=\"Cats and dogs always fight\")"
   ]
  }
 ],
 "metadata": {
  "kernelspec": {
   "display_name": "Python 3",
   "language": "python",
   "name": "python3"
  },
  "language_info": {
   "codemirror_mode": {
    "name": "ipython",
    "version": 3
   },
   "file_extension": ".py",
   "mimetype": "text/x-python",
   "name": "python",
   "nbconvert_exporter": "python",
   "pygments_lexer": "ipython3",
   "version": "3.8.3"
  }
 },
 "nbformat": 4,
 "nbformat_minor": 5
}
